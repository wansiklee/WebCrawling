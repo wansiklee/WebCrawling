{
 "cells": [
  {
   "cell_type": "markdown",
   "metadata": {},
   "source": [
    "# 서울특별시체육회 시민참여프로그램"
   ]
  },
  {
   "cell_type": "markdown",
   "metadata": {},
   "source": [
    "## 시민참여프로그램 목록"
   ]
  },
  {
   "cell_type": "code",
   "execution_count": 38,
   "metadata": {
    "scrolled": false
   },
   "outputs": [
    {
     "name": "stdout",
     "output_type": "stream",
     "text": [
      "프로그램 : 서울트레킹 , href태그 : /user/citizenAction/userCitizenProgramList.do?citizenParam=traking\n",
      "프로그램 : 스포츠재능나눔 , href태그 : /user/citizenAction/userCitizenProgramList.do?citizenParam=sharetalent\n",
      "프로그램 : 가족스케이팅교실 , href태그 : /user/citizenAction/userCitizenProgramList.do?citizenParam=skating\n",
      "프로그램 : 종목별스포츠교실-봅슬레이 , href태그 : /user/citizenAction/userCitizenProgramList.do?citizenParam=stsixt\n",
      "프로그램 : 가족파크골프교실 , href태그 : /user/citizenAction/userCitizenProgramList.do?citizenParam=parkgolf\n",
      "프로그램 : 가족스포츠캠프 , href태그 : /user/citizenAction/userCitizenProgramList.do?citizenParam=camp\n",
      "프로그램 : 서바이벌프로그램 , href태그 : /user/citizenAction/userCitizenProgramList.do?citizenParam=survival\n",
      "프로그램 : 종목별스포츠교실-럭비 , href태그 : /user/citizenAction/userCitizenProgramList.do?citizenParam=stten\n",
      "프로그램 : 종목별스포츠교실-카누 , href태그 : /user/citizenAction/userCitizenProgramList.do?citizenParam=stthirt\n",
      "프로그램 : 종목별스포츠교실-족구 , href태그 : /user/citizenAction/userCitizenProgramList.do?citizenParam=stele\n",
      "프로그램 : 스포츠재능나눔-스킨스쿠버 , href태그 : /user/citizenAction/userCitizenProgramList.do?citizenParam=stfive\n",
      "프로그램 : 가족수상스포츠교실 , href태그 : /user/citizenAction/userCitizenProgramList.do?citizenParam=famliy\n",
      "프로그램 : 찾아가는 체육관 , href태그 : /user/citizenAction/userCitizenProgramList.do?citizenParam=gym\n",
      "프로그램 : 축구심판양성교육 , href태그 : /user/citizenAction/userCitizenProgramList.do?citizenParam=lsl\n",
      "프로그램 : 시민대상낚시교실 , href태그 : /user/citizenAction/userCitizenProgramList.do?citizenParam=stfift\n"
     ]
    }
   ],
   "source": [
    "import requests\n",
    "from bs4 import BeautifulSoup\n",
    "import json\n",
    "import os\n",
    "\n",
    "BASE_DIR = 'C:\\jupyter_project\\WebCrawling\\WebCrawling\\SeoulChatbotTon\\\\'\n",
    "\n",
    "req = requests.get('https://www.seoulsports.or.kr/home/homeIndex.do')\n",
    "html = req.text\n",
    "soup = BeautifulSoup(html, 'html.parser')\n",
    "programs = soup.select('#gnb > div > div > div > ul.mo-gnb > li:nth-child(1) > ul > li > a')\n",
    "\n",
    "for program in programs:\n",
    "    print('프로그램 : {} , href태그 : {}'.format(program.text,  program.get('href')))\n",
    "    \n",
    "data = {}\n",
    "for program in programs:\n",
    "    data[program.text] = program.get('href')\n",
    "    \n",
    " # json 파일로 저장   \n",
    "with open(os.path.join(BASE_DIR, 'programList.json'), 'w+') as json_file:\n",
    "    json.dump(data, json_file)"
   ]
  },
  {
   "cell_type": "code",
   "execution_count": 2,
   "metadata": {},
   "outputs": [
    {
     "name": "stdout",
     "output_type": "stream",
     "text": [
      "{'서울트레킹': '/user/citizenAction/userCitizenProgramList.do?citizenParam=traking', '스포츠재능나눔': '/user/citizenAction/userCitizenProgramList.do?citizenParam=sharetalent', '가족스케이팅교실': '/user/citizenAction/userCitizenProgramList.do?citizenParam=skating', '종목별스포츠교실-봅슬레이': '/user/citizenAction/userCitizenProgramList.do?citizenParam=stsixt', '가족파크골프교실': '/user/citizenAction/userCitizenProgramList.do?citizenParam=parkgolf', '가족스포츠캠프': '/user/citizenAction/userCitizenProgramList.do?citizenParam=camp', '서바이벌프로그램': '/user/citizenAction/userCitizenProgramList.do?citizenParam=survival', '종목별스포츠교실-럭비': '/user/citizenAction/userCitizenProgramList.do?citizenParam=stten', '종목별스포츠교실-카누': '/user/citizenAction/userCitizenProgramList.do?citizenParam=stthirt', '종목별스포츠교실-족구': '/user/citizenAction/userCitizenProgramList.do?citizenParam=stele', '스포츠재능나눔-스킨스쿠버': '/user/citizenAction/userCitizenProgramList.do?citizenParam=stfive', '가족수상스포츠교실': '/user/citizenAction/userCitizenProgramList.do?citizenParam=famliy', '찾아가는 체육관': '/user/citizenAction/userCitizenProgramList.do?citizenParam=gym', '축구심판양성교육': '/user/citizenAction/userCitizenProgramList.do?citizenParam=lsl', '시민대상낚시교실': '/user/citizenAction/userCitizenProgramList.do?citizenParam=stfift'}\n"
     ]
    }
   ],
   "source": [
    "# json파일 열어보기\n",
    "proName = None\n",
    "\n",
    "with open(r'C:\\jupyter_project\\SeoulChatbot\\programList.json', 'r') as f:\n",
    "    proName = json.load(f)\n",
    "    \n",
    "print(proName)"
   ]
  },
  {
   "cell_type": "markdown",
   "metadata": {},
   "source": [
    "## 접수중인 프로그램 상세정보"
   ]
  },
  {
   "cell_type": "code",
   "execution_count": 39,
   "metadata": {
    "scrolled": false
   },
   "outputs": [
    {
     "name": "stdout",
     "output_type": "stream",
     "text": [
      "\n",
      "\n",
      "\n",
      "\n",
      "\n",
      "\n",
      "\n",
      "접수중\n",
      "\n",
      "\n",
      "\n",
      "\t\t\t\t\t★접수중★서울트레킹 5차\n",
      "\t\t\t\t\t\n",
      "\n",
      "\n",
      "\n",
      "\n",
      "\n",
      "\t\t\t\t\t\n",
      "\t\t\t\t\t\t2019 서울트레킹(5차) 일정안내\r",
      " ■ 행사일자 : 2019.10.12.(토) 09:00\r",
      "■ 모집기간 : 9. 30.(월) 10:00 ~ 10. 10.(목) 17:00 \r",
      "   ※ 모바일 접수시, 오류가 발생할 수 있으니 PC로 접수해 주시기 바랍니다.  \r",
      " ■ 집결장소 : 송파구 방이동 올림픽공원 88호수 수변무대\r",
      "■ 참여대상 : 서울시민이면 누구나 (단, 초등학생 이상) \r",
      "■ 소요시간 : 약 1시간 30분 (3.9km)\r",
      "■ 난이도 : 중하\r",
      " ▣ 현장접수는 따로 받지 않습니다.\r",
      "▣ 신청 후 마이페이지에서 신청 인원 확인 必\r",
      "   문의) 02-490-2767 \n",
      "\t\t\t\t\t\n",
      "\n",
      "장소보기\n",
      "\n",
      "\n"
     ]
    }
   ],
   "source": [
    "proList = ['traking', 'sharetalent', 'skating', 'stsixt', 'parkgolf',\n",
    "           'camp', 'survival', 'stten', 'stthirt', 'stele', 'stfive',\n",
    "           'workleague', 'family', 'gym', 'lsl', 'stfift']\n",
    "\n",
    "# '서울트레킹' : 'traking',\n",
    "# '스포츠재능나눔' : 'sharetalent',\n",
    "# '가족스케이팅교실' : 'skating',\n",
    "# '종목별스포츠교실-봅슬레이' : 'stsixt',\n",
    "# '가족파크골프교실' : 'parkgolf',\n",
    "# '가족스포츠캠프' : 'camp',\n",
    "# '서바이벌프로그램' : 'survival',\n",
    "# '종목별스포츠교실-럭비' : 'stten',\n",
    "# '종목별스포츠교실-카누' : 'stthirt',\n",
    "# '종목별스포츠교실-족구' : 'stele',\n",
    "# '스포츠재능나눔-스킨스쿠버' : 'stfive',\n",
    "# '직장인리그' : 'workleague',\n",
    "# '가족수상스포츠교실' : 'family',\n",
    "# '찾아가는 체육관' : 'gym',\n",
    "# '축구심판양성교육' : 'lsl',\n",
    "# '시민대상낚시교실' : 'stfift'\n",
    "\n",
    "programListLink = \"https://www.seoulsports.or.kr/user/citizenAction/userCitizenProgramList.do?citizenParam=\"\n",
    "\n",
    "for i in range(len(proList)):\n",
    "    req = requests.get(programListLink + \"{}\".format(proList[i]))\n",
    "    html = req.text\n",
    "    soup = BeautifulSoup(html, 'html.parser')\n",
    "    \n",
    "    programs = soup.select('#content > div.table-wrap > ul > li')\n",
    "    for p in programs:\n",
    "        if('접수중' in p.text):\n",
    "            print(p.text)"
   ]
  },
  {
   "cell_type": "markdown",
   "metadata": {},
   "source": [
    "## 셀레니움 이용하기"
   ]
  },
  {
   "cell_type": "code",
   "execution_count": 15,
   "metadata": {
    "scrolled": false
   },
   "outputs": [
    {
     "name": "stdout",
     "output_type": "stream",
     "text": [
      "\t\t\t\t\t\t2019 서울트레킹(5차) 일정안내\n",
      "\n",
      "■ 행사일자 : 2019.10.12.(토) 09:00\n",
      "■ 모집기간 : 9. 30.(월) 10:00 ~ 10. 10.(목) 17:00 \n",
      "\n",
      "  ※ 모바일 접수시, 오류가 발생할 수 있으니 PC로 접수해 주시기 바랍니다.  \n",
      "\n",
      "■ 집결장소 : 송파구 방이동 올림픽공원 88호수 수변무대\n",
      "■ 참여대상 : 서울시민이면 누구나 (단, 초등학생 이상) \n",
      "■ 소요시간 : 약 1시간 30분 (3.9km)\n",
      "■ 난이도 : 중하\n",
      "\n",
      "▣ 현장접수는 따로 받지 않습니다.\n",
      "▣ 신청 후 마이페이지에서 신청 인원 확인 必\n",
      "\n",
      "\n",
      "\n",
      "문의) 02-490-2767\n"
     ]
    }
   ],
   "source": [
    "from selenium import webdriver\n",
    "from bs4 import BeautifulSoup\n",
    "import os\n",
    "import json\n",
    "\n",
    "# 크롬 headless 모드 실행\n",
    "chrome_options = webdriver.ChromeOptions()\n",
    "chrome_options.add_argument('headless')\n",
    "chrome_options.add_argument('--disable-gpu')\n",
    "chrome_options.add_argument('lang=ko_KR')\n",
    "\n",
    "driver = webdriver.Chrome(r'C:\\Users\\USER\\Downloads\\chromedriver_win32\\chromedriver', options=chrome_options)\n",
    "# 암묵적으로 웹 자원 로드를 위해 3초까지 기다려 준다.\n",
    "driver.implicitly_wait(3)\n",
    "\n",
    "# url에 접근\n",
    "driver.get('https://www.seoulsports.or.kr/home/homeIndex.do')\n",
    "\n",
    "# 메뉴 클릭 후 시민참여프로그램 클릭\n",
    "driver.find_element_by_xpath('//*[@id=\"gnb\"]/div[1]/button/img').click()\n",
    "driver.find_element_by_xpath('//*[@id=\"gnb\"]/div[1]/div/div/ul[2]/li[1]/a').click()\n",
    "\n",
    "# 시민참여프로그램 리스트 가져오기\n",
    "req = driver.page_source\n",
    "soup = BeautifulSoup(req, 'html.parser')\n",
    "programList = soup.select('#gnb > div:nth-child(2) > div > div > ul.mo-gnb > li:nth-child(1) > ul > li > a')\n",
    "\n",
    "data = {}\n",
    "\n",
    "# 시민참여프로그램 중 '접수중'인 프로그램 찾기\n",
    "for i in range(len(programList)-1):\n",
    "    if(i == 0):\n",
    "        driver.find_element_by_xpath('//*[@id=\"gnb\"]/div[1]/div/div/ul[2]/li[1]/ul/li[1]/a').click()\n",
    "\n",
    "    req = driver.page_source\n",
    "    soup = BeautifulSoup(req, 'html.parser')\n",
    "    programs = soup.select('#content > div.table-wrap > ul > li')\n",
    "    \n",
    "    for p in programs:\n",
    "        if('접수중' in p.text):\n",
    "            data[programList[i].text] = p.text[50:-15]\n",
    "            print(p.text[50:-15])\n",
    "    if(data == None):\n",
    "        print('접수중인 프로그램이 없습니다.')\n",
    "    driver.find_element_by_xpath('//*[@id=\"content\"]/a[2]').click()\n",
    "\n",
    "# json 파일로 저장\n",
    "BASE_DIR = 'C:\\jupyter_project\\WebCrawling\\WebCrawling\\SeoulChatbotTon\\\\'\n",
    "\n",
    "with open(os.path.join(BASE_DIR, 'programDetail.json'), 'w+') as json_file:\n",
    "    json.dump(data, json_file)"
   ]
  }
 ],
 "metadata": {
  "kernelspec": {
   "display_name": "Python 3",
   "language": "python",
   "name": "python3"
  },
  "language_info": {
   "codemirror_mode": {
    "name": "ipython",
    "version": 3
   },
   "file_extension": ".py",
   "mimetype": "text/x-python",
   "name": "python",
   "nbconvert_exporter": "python",
   "pygments_lexer": "ipython3",
   "version": "3.7.3"
  }
 },
 "nbformat": 4,
 "nbformat_minor": 2
}
